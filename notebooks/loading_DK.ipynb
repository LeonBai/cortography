{
 "cells": [
  {
   "cell_type": "markdown",
   "metadata": {},
   "source": [
    "# Loading DK atlas from raj-utils"
   ]
  },
  {
   "cell_type": "markdown",
   "metadata": {},
   "source": [
    "### Load module"
   ]
  },
  {
   "cell_type": "markdown",
   "metadata": {},
   "source": [
    "Either add raj-utils to your path or load it following the steps below:\n",
    "\n",
    "First make a pointer for the raj-utils directory"
   ]
  },
  {
   "cell_type": "code",
   "execution_count": 31,
   "metadata": {},
   "outputs": [],
   "source": [
    "import importlib.util\n",
    "import numpy as np"
   ]
  },
  {
   "cell_type": "code",
   "execution_count": 32,
   "metadata": {},
   "outputs": [],
   "source": [
    "raj_utils_path = \"/Users/pferreira/Documents/1_work/2_code/raj-utils/code/load_atlas.py\"\n",
    "spec = importlib.util.spec_from_file_location(\"raj-utils.load_atlas\", raj_utils_path)\n",
    "raj_utils = importlib.util.module_from_spec(spec)\n",
    "spec.loader.exec_module(raj_utils)"
   ]
  },
  {
   "cell_type": "code",
   "execution_count": 25,
   "metadata": {},
   "outputs": [],
   "source": [
    "DK = raj_utils.load_atlas(atlas=\"DK\", portion=\"cortical\").set_index('Name')"
   ]
  },
  {
   "cell_type": "code",
   "execution_count": 26,
   "metadata": {},
   "outputs": [
    {
     "data": {
      "text/html": [
       "<div>\n",
       "<style scoped>\n",
       "    .dataframe tbody tr th:only-of-type {\n",
       "        vertical-align: middle;\n",
       "    }\n",
       "\n",
       "    .dataframe tbody tr th {\n",
       "        vertical-align: top;\n",
       "    }\n",
       "\n",
       "    .dataframe thead th {\n",
       "        text-align: right;\n",
       "    }\n",
       "</style>\n",
       "<table border=\"1\" class=\"dataframe\">\n",
       "  <thead>\n",
       "    <tr style=\"text-align: right;\">\n",
       "      <th></th>\n",
       "      <th>Short Name</th>\n",
       "      <th>x.mni</th>\n",
       "      <th>y.mni</th>\n",
       "      <th>z.mni</th>\n",
       "      <th>Hemisphere</th>\n",
       "      <th>Long Name</th>\n",
       "      <th>Lobe</th>\n",
       "      <th>Functional System</th>\n",
       "      <th>index</th>\n",
       "    </tr>\n",
       "    <tr>\n",
       "      <th>Name</th>\n",
       "      <th></th>\n",
       "      <th></th>\n",
       "      <th></th>\n",
       "      <th></th>\n",
       "      <th></th>\n",
       "      <th></th>\n",
       "      <th></th>\n",
       "      <th></th>\n",
       "      <th></th>\n",
       "    </tr>\n",
       "  </thead>\n",
       "  <tbody>\n",
       "    <tr>\n",
       "      <th>ctx-lh-bankssts</th>\n",
       "      <td>lBSTS</td>\n",
       "      <td>-56.0</td>\n",
       "      <td>-44.0</td>\n",
       "      <td>5.0</td>\n",
       "      <td>L</td>\n",
       "      <td>bank of the superior temporal sulcus</td>\n",
       "      <td>temporal</td>\n",
       "      <td>auditory</td>\n",
       "      <td>1</td>\n",
       "    </tr>\n",
       "    <tr>\n",
       "      <th>ctx-lh-caudalanteriorcingulate</th>\n",
       "      <td>lcACC</td>\n",
       "      <td>-2.0</td>\n",
       "      <td>21.0</td>\n",
       "      <td>27.0</td>\n",
       "      <td>L</td>\n",
       "      <td>caudal anterior cingulate</td>\n",
       "      <td>frontal</td>\n",
       "      <td>cingulo-opercular</td>\n",
       "      <td>2</td>\n",
       "    </tr>\n",
       "    <tr>\n",
       "      <th>ctx-lh-caudalmiddlefrontal</th>\n",
       "      <td>lcMFG</td>\n",
       "      <td>-45.0</td>\n",
       "      <td>18.0</td>\n",
       "      <td>46.0</td>\n",
       "      <td>L</td>\n",
       "      <td>caudal middle frontal gyrus</td>\n",
       "      <td>frontal</td>\n",
       "      <td>fronto-parietal</td>\n",
       "      <td>3</td>\n",
       "    </tr>\n",
       "    <tr>\n",
       "      <th>ctx-lh-cuneus</th>\n",
       "      <td>lCUN</td>\n",
       "      <td>-1.0</td>\n",
       "      <td>-82.0</td>\n",
       "      <td>20.0</td>\n",
       "      <td>L</td>\n",
       "      <td>cuneus</td>\n",
       "      <td>occipital</td>\n",
       "      <td>visual</td>\n",
       "      <td>4</td>\n",
       "    </tr>\n",
       "    <tr>\n",
       "      <th>ctx-lh-entorhinal</th>\n",
       "      <td>lENT</td>\n",
       "      <td>-16.0</td>\n",
       "      <td>-10.0</td>\n",
       "      <td>-29.0</td>\n",
       "      <td>L</td>\n",
       "      <td>entorhinal</td>\n",
       "      <td>temporal</td>\n",
       "      <td>visual</td>\n",
       "      <td>5</td>\n",
       "    </tr>\n",
       "  </tbody>\n",
       "</table>\n",
       "</div>"
      ],
      "text/plain": [
       "                               Short Name  x.mni  y.mni  z.mni Hemisphere  \\\n",
       "Name                                                                        \n",
       "ctx-lh-bankssts                    lBSTS   -56.0  -44.0    5.0         L    \n",
       "ctx-lh-caudalanteriorcingulate     lcACC    -2.0   21.0   27.0         L    \n",
       "ctx-lh-caudalmiddlefrontal         lcMFG   -45.0   18.0   46.0         L    \n",
       "ctx-lh-cuneus                       lCUN    -1.0  -82.0   20.0         L    \n",
       "ctx-lh-entorhinal                   lENT   -16.0  -10.0  -29.0         L    \n",
       "\n",
       "                                                           Long Name  \\\n",
       "Name                                                                   \n",
       "ctx-lh-bankssts                 bank of the superior temporal sulcus   \n",
       "ctx-lh-caudalanteriorcingulate             caudal anterior cingulate   \n",
       "ctx-lh-caudalmiddlefrontal               caudal middle frontal gyrus   \n",
       "ctx-lh-cuneus                                                 cuneus   \n",
       "ctx-lh-entorhinal                                         entorhinal   \n",
       "\n",
       "                                     Lobe  Functional System  index  \n",
       "Name                                                                 \n",
       "ctx-lh-bankssts                  temporal           auditory      1  \n",
       "ctx-lh-caudalanteriorcingulate    frontal  cingulo-opercular      2  \n",
       "ctx-lh-caudalmiddlefrontal        frontal    fronto-parietal      3  \n",
       "ctx-lh-cuneus                   occipital             visual      4  \n",
       "ctx-lh-entorhinal                temporal             visual      5  "
      ]
     },
     "execution_count": 26,
     "metadata": {},
     "output_type": "execute_result"
    }
   ],
   "source": [
    "DK.head()"
   ]
  },
  {
   "cell_type": "markdown",
   "metadata": {},
   "source": [
    "### Slicing the data: get coordinates"
   ]
  },
  {
   "cell_type": "code",
   "execution_count": 27,
   "metadata": {},
   "outputs": [
    {
     "data": {
      "text/html": [
       "<div>\n",
       "<style scoped>\n",
       "    .dataframe tbody tr th:only-of-type {\n",
       "        vertical-align: middle;\n",
       "    }\n",
       "\n",
       "    .dataframe tbody tr th {\n",
       "        vertical-align: top;\n",
       "    }\n",
       "\n",
       "    .dataframe thead th {\n",
       "        text-align: right;\n",
       "    }\n",
       "</style>\n",
       "<table border=\"1\" class=\"dataframe\">\n",
       "  <thead>\n",
       "    <tr style=\"text-align: right;\">\n",
       "      <th></th>\n",
       "      <th>x.mni</th>\n",
       "      <th>y.mni</th>\n",
       "      <th>z.mni</th>\n",
       "    </tr>\n",
       "    <tr>\n",
       "      <th>Name</th>\n",
       "      <th></th>\n",
       "      <th></th>\n",
       "      <th></th>\n",
       "    </tr>\n",
       "  </thead>\n",
       "  <tbody>\n",
       "    <tr>\n",
       "      <th>ctx-lh-bankssts</th>\n",
       "      <td>-56.0</td>\n",
       "      <td>-44.0</td>\n",
       "      <td>5.0</td>\n",
       "    </tr>\n",
       "    <tr>\n",
       "      <th>ctx-lh-caudalanteriorcingulate</th>\n",
       "      <td>-2.0</td>\n",
       "      <td>21.0</td>\n",
       "      <td>27.0</td>\n",
       "    </tr>\n",
       "    <tr>\n",
       "      <th>ctx-lh-caudalmiddlefrontal</th>\n",
       "      <td>-45.0</td>\n",
       "      <td>18.0</td>\n",
       "      <td>46.0</td>\n",
       "    </tr>\n",
       "    <tr>\n",
       "      <th>ctx-lh-cuneus</th>\n",
       "      <td>-1.0</td>\n",
       "      <td>-82.0</td>\n",
       "      <td>20.0</td>\n",
       "    </tr>\n",
       "    <tr>\n",
       "      <th>ctx-lh-entorhinal</th>\n",
       "      <td>-16.0</td>\n",
       "      <td>-10.0</td>\n",
       "      <td>-29.0</td>\n",
       "    </tr>\n",
       "  </tbody>\n",
       "</table>\n",
       "</div>"
      ],
      "text/plain": [
       "                                x.mni  y.mni  z.mni\n",
       "Name                                               \n",
       "ctx-lh-bankssts                 -56.0  -44.0    5.0\n",
       "ctx-lh-caudalanteriorcingulate   -2.0   21.0   27.0\n",
       "ctx-lh-caudalmiddlefrontal      -45.0   18.0   46.0\n",
       "ctx-lh-cuneus                    -1.0  -82.0   20.0\n",
       "ctx-lh-entorhinal               -16.0  -10.0  -29.0"
      ]
     },
     "execution_count": 27,
     "metadata": {},
     "output_type": "execute_result"
    }
   ],
   "source": [
    "# Getting coordinates (2 options: use loc[lines, columns] or [[]])\n",
    "# DK_coords = DK.loc[:, 'x.mni':'z.mni']\n",
    "DK_coords = DK[['x.mni','y.mni','z.mni']]\n",
    "DK_coords.head()"
   ]
  },
  {
   "cell_type": "markdown",
   "metadata": {},
   "source": [
    "### Get region names"
   ]
  },
  {
   "cell_type": "code",
   "execution_count": 37,
   "metadata": {},
   "outputs": [
    {
     "data": {
      "text/plain": [
       "['ctx-lh-bankssts',\n",
       " 'ctx-lh-caudalanteriorcingulate',\n",
       " 'ctx-lh-caudalmiddlefrontal',\n",
       " 'ctx-lh-cuneus',\n",
       " 'ctx-lh-entorhinal',\n",
       " 'ctx-lh-fusiform',\n",
       " 'ctx-lh-inferiorparietal',\n",
       " 'ctx-lh-inferiortemporal',\n",
       " 'ctx-lh-isthmuscingulate',\n",
       " 'ctx-lh-lateraloccipital',\n",
       " 'ctx-lh-lateralorbitofrontal',\n",
       " 'ctx-lh-lingual',\n",
       " 'ctx-lh-medialorbitofrontal',\n",
       " 'ctx-lh-middletemporal',\n",
       " 'ctx-lh-parahippocampal',\n",
       " 'ctx-lh-paracentral',\n",
       " 'ctx-lh-parsopercularis',\n",
       " 'ctx-lh-parsorbitalis',\n",
       " 'ctx-lh-parstriangularis',\n",
       " 'ctx-lh-pericalcarine',\n",
       " 'ctx-lh-postcentral',\n",
       " 'ctx-lh-posteriorcingulate',\n",
       " 'ctx-lh-precentral',\n",
       " 'ctx-lh-precuneus',\n",
       " 'ctx-lh-rostralanteriorcingulate',\n",
       " 'ctx-lh-rostralmiddlefrontal',\n",
       " 'ctx-lh-superiorfrontal',\n",
       " 'ctx-lh-superiorparietal',\n",
       " 'ctx-lh-superiortemporal',\n",
       " 'ctx-lh-supramarginal',\n",
       " 'ctx-lh-frontalpole',\n",
       " 'ctx-lh-temporalpole',\n",
       " 'ctx-lh-transversetemporal',\n",
       " 'ctx-lh-insula',\n",
       " 'ctx-rh-bankssts',\n",
       " 'ctx-rh-caudalanteriorcingulate',\n",
       " 'ctx-rh-caudalmiddlefrontal',\n",
       " 'ctx-rh-cuneus',\n",
       " 'ctx-rh-entorhinal',\n",
       " 'ctx-rh-fusiform',\n",
       " 'ctx-rh-inferiorparietal',\n",
       " 'ctx-rh-inferiortemporal',\n",
       " 'ctx-rh-isthmuscingulate',\n",
       " 'ctx-rh-lateraloccipital',\n",
       " 'ctx-rh-lateralorbitofrontal',\n",
       " 'ctx-rh-lingual',\n",
       " 'ctx-rh-medialorbitofrontal',\n",
       " 'ctx-rh-middletemporal',\n",
       " 'ctx-rh-parahippocampal',\n",
       " 'ctx-rh-paracentral',\n",
       " 'ctx-rh-parsopercularis',\n",
       " 'ctx-rh-parsorbitalis',\n",
       " 'ctx-rh-parstriangularis',\n",
       " 'ctx-rh-pericalcarine',\n",
       " 'ctx-rh-postcentral',\n",
       " 'ctx-rh-posteriorcingulate',\n",
       " 'ctx-rh-precentral',\n",
       " 'ctx-rh-precuneus',\n",
       " 'ctx-rh-rostralanteriorcingulate',\n",
       " 'ctx-rh-rostralmiddlefrontal',\n",
       " 'ctx-rh-superiorfrontal',\n",
       " 'ctx-rh-superiorparietal',\n",
       " 'ctx-rh-superiortemporal',\n",
       " 'ctx-rh-supramarginal',\n",
       " 'ctx-rh-frontalpole',\n",
       " 'ctx-rh-temporalpole',\n",
       " 'ctx-rh-transversetemporal',\n",
       " 'ctx-rh-insula']"
      ]
     },
     "execution_count": 37,
     "metadata": {},
     "output_type": "execute_result"
    }
   ],
   "source": [
    "region_names = list(DK_coords.index)\n",
    "region_names"
   ]
  },
  {
   "cell_type": "code",
   "execution_count": null,
   "metadata": {},
   "outputs": [],
   "source": []
  }
 ],
 "metadata": {
  "kernelspec": {
   "display_name": "py36-brain",
   "language": "python",
   "name": "py36-brain"
  },
  "language_info": {
   "codemirror_mode": {
    "name": "ipython",
    "version": 3
   },
   "file_extension": ".py",
   "mimetype": "text/x-python",
   "name": "python",
   "nbconvert_exporter": "python",
   "pygments_lexer": "ipython3",
   "version": "3.6.5"
  }
 },
 "nbformat": 4,
 "nbformat_minor": 2
}
