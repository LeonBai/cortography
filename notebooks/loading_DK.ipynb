{
 "cells": [
  {
   "cell_type": "markdown",
   "metadata": {},
   "source": [
    "# Loading DK atlas from raj-utils"
   ]
  },
  {
   "cell_type": "markdown",
   "metadata": {},
   "source": [
    "### Load module"
   ]
  },
  {
   "cell_type": "markdown",
   "metadata": {},
   "source": [
    "First make a pointer for the ra-utils directory"
   ]
  },
  {
   "cell_type": "code",
   "execution_count": 5,
   "metadata": {},
   "outputs": [],
   "source": [
    "# import raj-utils\n",
    "import importlib.util\n",
    "raj_utils_path = \"/Users/pferreira/Documents/1_work/2_code/raj-utils/code/load_atlas.py\"\n",
    "spec = importlib.util.spec_from_file_location(\"raj-utils.load_atlas\", raj_utils_path)\n",
    "raj_utils = importlib.util.module_from_spec(spec)\n",
    "spec.loader.exec_module(raj_utils)"
   ]
  },
  {
   "cell_type": "code",
   "execution_count": 6,
   "metadata": {},
   "outputs": [],
   "source": [
    "DK = raj_utils.load_atlas(atlas=\"DK\", portion=\"cortical\")"
   ]
  },
  {
   "cell_type": "code",
   "execution_count": 7,
   "metadata": {},
   "outputs": [
    {
     "data": {
      "text/html": [
       "<div>\n",
       "<style scoped>\n",
       "    .dataframe tbody tr th:only-of-type {\n",
       "        vertical-align: middle;\n",
       "    }\n",
       "\n",
       "    .dataframe tbody tr th {\n",
       "        vertical-align: top;\n",
       "    }\n",
       "\n",
       "    .dataframe thead th {\n",
       "        text-align: right;\n",
       "    }\n",
       "</style>\n",
       "<table border=\"1\" class=\"dataframe\">\n",
       "  <thead>\n",
       "    <tr style=\"text-align: right;\">\n",
       "      <th></th>\n",
       "      <th>Name</th>\n",
       "      <th>Short Name</th>\n",
       "      <th>x.mni</th>\n",
       "      <th>y.mni</th>\n",
       "      <th>z.mni</th>\n",
       "      <th>Lobe</th>\n",
       "      <th>Hemisphere</th>\n",
       "      <th>Long Name</th>\n",
       "      <th>Lobe.1</th>\n",
       "      <th>Functional System</th>\n",
       "      <th>index</th>\n",
       "    </tr>\n",
       "  </thead>\n",
       "  <tbody>\n",
       "    <tr>\n",
       "      <th>0</th>\n",
       "      <td>ctx-lh-bankssts</td>\n",
       "      <td>lBSTS</td>\n",
       "      <td>-56.0</td>\n",
       "      <td>-44.0</td>\n",
       "      <td>5.0</td>\n",
       "      <td>Temporal</td>\n",
       "      <td>L</td>\n",
       "      <td>L bank of the superior temporal sulcus</td>\n",
       "      <td>L temporal</td>\n",
       "      <td>auditory</td>\n",
       "      <td>1</td>\n",
       "    </tr>\n",
       "    <tr>\n",
       "      <th>1</th>\n",
       "      <td>ctx-lh-caudalanteriorcingulate</td>\n",
       "      <td>lcACC</td>\n",
       "      <td>-2.0</td>\n",
       "      <td>21.0</td>\n",
       "      <td>27.0</td>\n",
       "      <td>Cingulate</td>\n",
       "      <td>L</td>\n",
       "      <td>L caudal anterior cingulate</td>\n",
       "      <td>L frontal</td>\n",
       "      <td>cingulo-opercular</td>\n",
       "      <td>2</td>\n",
       "    </tr>\n",
       "    <tr>\n",
       "      <th>2</th>\n",
       "      <td>ctx-lh-caudalmiddlefrontal</td>\n",
       "      <td>lcMFG</td>\n",
       "      <td>-45.0</td>\n",
       "      <td>18.0</td>\n",
       "      <td>46.0</td>\n",
       "      <td>Frontal</td>\n",
       "      <td>L</td>\n",
       "      <td>L caudal middle frontal gyrus</td>\n",
       "      <td>L frontal</td>\n",
       "      <td>fronto-parietal</td>\n",
       "      <td>3</td>\n",
       "    </tr>\n",
       "    <tr>\n",
       "      <th>3</th>\n",
       "      <td>ctx-lh-cuneus</td>\n",
       "      <td>lCUN</td>\n",
       "      <td>-1.0</td>\n",
       "      <td>-82.0</td>\n",
       "      <td>20.0</td>\n",
       "      <td>Occipital</td>\n",
       "      <td>L</td>\n",
       "      <td>L cuneus</td>\n",
       "      <td>L occipital</td>\n",
       "      <td>visual</td>\n",
       "      <td>4</td>\n",
       "    </tr>\n",
       "    <tr>\n",
       "      <th>4</th>\n",
       "      <td>ctx-lh-entorhinal</td>\n",
       "      <td>lENT</td>\n",
       "      <td>-16.0</td>\n",
       "      <td>-10.0</td>\n",
       "      <td>-29.0</td>\n",
       "      <td>Temporal</td>\n",
       "      <td>L</td>\n",
       "      <td>L entorhinal</td>\n",
       "      <td>L temporal</td>\n",
       "      <td>visual</td>\n",
       "      <td>5</td>\n",
       "    </tr>\n",
       "  </tbody>\n",
       "</table>\n",
       "</div>"
      ],
      "text/plain": [
       "                             Name Short Name   x.mni   y.mni   z.mni  \\\n",
       "0                 ctx-lh-bankssts     lBSTS    -56.0   -44.0     5.0   \n",
       "1  ctx-lh-caudalanteriorcingulate     lcACC     -2.0    21.0    27.0   \n",
       "2      ctx-lh-caudalmiddlefrontal     lcMFG    -45.0    18.0    46.0   \n",
       "3                   ctx-lh-cuneus      lCUN     -1.0   -82.0    20.0   \n",
       "4               ctx-lh-entorhinal      lENT    -16.0   -10.0   -29.0   \n",
       "\n",
       "         Lobe Hemisphere                               Long Name       Lobe.1  \\\n",
       "0   Temporal          L   L bank of the superior temporal sulcus   L temporal   \n",
       "1  Cingulate          L              L caudal anterior cingulate    L frontal   \n",
       "2    Frontal          L            L caudal middle frontal gyrus    L frontal   \n",
       "3  Occipital          L                                 L cuneus  L occipital   \n",
       "4   Temporal          L                             L entorhinal   L temporal   \n",
       "\n",
       "   Functional System  index  \n",
       "0           auditory      1  \n",
       "1  cingulo-opercular      2  \n",
       "2    fronto-parietal      3  \n",
       "3             visual      4  \n",
       "4             visual      5  "
      ]
     },
     "execution_count": 7,
     "metadata": {},
     "output_type": "execute_result"
    }
   ],
   "source": [
    "DK.head()"
   ]
  }
 ],
 "metadata": {
  "kernelspec": {
   "display_name": "py36-brain",
   "language": "python",
   "name": "py36-brain"
  },
  "language_info": {
   "codemirror_mode": {
    "name": "ipython",
    "version": 3
   },
   "file_extension": ".py",
   "mimetype": "text/x-python",
   "name": "python",
   "nbconvert_exporter": "python",
   "pygments_lexer": "ipython3",
   "version": "3.6.5"
  }
 },
 "nbformat": 4,
 "nbformat_minor": 2
}
