{
 "cells": [
  {
   "cell_type": "markdown",
   "metadata": {},
   "source": [
    "# Loading DK atlas from raj-utils"
   ]
  },
  {
   "cell_type": "markdown",
   "metadata": {},
   "source": [
    "### Load module"
   ]
  },
  {
   "cell_type": "markdown",
   "metadata": {},
   "source": [
    "Either add raj-utils to your path or load it following the steps below:\n",
    "\n",
    "First make a pointer for the raj-utils directory"
   ]
  },
  {
   "cell_type": "code",
   "execution_count": 7,
   "metadata": {},
   "outputs": [],
   "source": [
    "import importlib.util\n",
    "import numpy as np"
   ]
  },
  {
   "cell_type": "code",
   "execution_count": 8,
   "metadata": {},
   "outputs": [],
   "source": []
  },
  {
   "cell_type": "code",
   "execution_count": 9,
   "metadata": {},
   "outputs": [],
   "source": [
    "raj_utils_path = \"../utils/atlas_utils.py\"\n",
    "\n",
    "spec = importlib.util.spec_from_file_location(\"atlas-utils.load_atlas\", raj_utils_path)\n",
    "raj_utils = importlib.util.module_from_spec(spec)\n",
    "spec.loader.exec_module(raj_utils)"
   ]
  },
  {
   "cell_type": "code",
   "execution_count": 10,
   "metadata": {},
   "outputs": [],
   "source": [
    "DK = raj_utils.load_atlas(atlas=\"DK\").set_index('Name')"
   ]
  },
  {
   "cell_type": "code",
   "execution_count": 11,
   "metadata": {},
   "outputs": [
    {
     "data": {
      "text/html": [
       "<div>\n",
       "<style scoped>\n",
       "    .dataframe tbody tr th:only-of-type {\n",
       "        vertical-align: middle;\n",
       "    }\n",
       "\n",
       "    .dataframe tbody tr th {\n",
       "        vertical-align: top;\n",
       "    }\n",
       "\n",
       "    .dataframe thead th {\n",
       "        text-align: right;\n",
       "    }\n",
       "</style>\n",
       "<table border=\"1\" class=\"dataframe\">\n",
       "  <thead>\n",
       "    <tr style=\"text-align: right;\">\n",
       "      <th></th>\n",
       "      <th>Short Name</th>\n",
       "      <th>x.mni</th>\n",
       "      <th>y.mni</th>\n",
       "      <th>z.mni</th>\n",
       "      <th>Hemisphere</th>\n",
       "      <th>Cortex</th>\n",
       "      <th>Other Name</th>\n",
       "      <th>Other Name 2</th>\n",
       "      <th>lobe</th>\n",
       "      <th>functional_system</th>\n",
       "      <th>index</th>\n",
       "    </tr>\n",
       "    <tr>\n",
       "      <th>Name</th>\n",
       "      <th></th>\n",
       "      <th></th>\n",
       "      <th></th>\n",
       "      <th></th>\n",
       "      <th></th>\n",
       "      <th></th>\n",
       "      <th></th>\n",
       "      <th></th>\n",
       "      <th></th>\n",
       "      <th></th>\n",
       "      <th></th>\n",
       "    </tr>\n",
       "  </thead>\n",
       "  <tbody>\n",
       "    <tr>\n",
       "      <th>Right-Pallidum</th>\n",
       "      <td>NaN</td>\n",
       "      <td>NaN</td>\n",
       "      <td>NaN</td>\n",
       "      <td>NaN</td>\n",
       "      <td>Right</td>\n",
       "      <td>subcortical</td>\n",
       "      <td>Pallidum_R</td>\n",
       "      <td>pallidum_rh</td>\n",
       "      <td>R Subcortical</td>\n",
       "      <td>subcortical</td>\n",
       "      <td>82</td>\n",
       "    </tr>\n",
       "    <tr>\n",
       "      <th>Right-Hippocampus</th>\n",
       "      <td>NaN</td>\n",
       "      <td>NaN</td>\n",
       "      <td>NaN</td>\n",
       "      <td>NaN</td>\n",
       "      <td>Right</td>\n",
       "      <td>subcortical</td>\n",
       "      <td>Hippocampus_R</td>\n",
       "      <td>hippocampus_rh</td>\n",
       "      <td>R Subcortical</td>\n",
       "      <td>subcortical</td>\n",
       "      <td>83</td>\n",
       "    </tr>\n",
       "    <tr>\n",
       "      <th>Right-Amygdala</th>\n",
       "      <td>NaN</td>\n",
       "      <td>NaN</td>\n",
       "      <td>NaN</td>\n",
       "      <td>NaN</td>\n",
       "      <td>Right</td>\n",
       "      <td>subcortical</td>\n",
       "      <td>Amygdala_R</td>\n",
       "      <td>amygdala_rh</td>\n",
       "      <td>R Subcortical</td>\n",
       "      <td>subcortical</td>\n",
       "      <td>84</td>\n",
       "    </tr>\n",
       "    <tr>\n",
       "      <th>Right-Accumbens-area</th>\n",
       "      <td>NaN</td>\n",
       "      <td>NaN</td>\n",
       "      <td>NaN</td>\n",
       "      <td>NaN</td>\n",
       "      <td>Right</td>\n",
       "      <td>subcortical</td>\n",
       "      <td>Accumbens_area_R</td>\n",
       "      <td>accumbensarea_rh</td>\n",
       "      <td>R Subcortical</td>\n",
       "      <td>subcortical</td>\n",
       "      <td>85</td>\n",
       "    </tr>\n",
       "    <tr>\n",
       "      <th>Right-VentralDC/Hypothalamus</th>\n",
       "      <td>NaN</td>\n",
       "      <td>NaN</td>\n",
       "      <td>NaN</td>\n",
       "      <td>NaN</td>\n",
       "      <td>Right</td>\n",
       "      <td>subcortical</td>\n",
       "      <td>Hypothalamus_R</td>\n",
       "      <td>ventralDC/Hypothalamus_rh</td>\n",
       "      <td>R Subcortical</td>\n",
       "      <td>subcortical</td>\n",
       "      <td>86</td>\n",
       "    </tr>\n",
       "  </tbody>\n",
       "</table>\n",
       "</div>"
      ],
      "text/plain": [
       "                             Short Name  x.mni  y.mni  z.mni Hemisphere  \\\n",
       "Name                                                                      \n",
       "Right-Pallidum                      NaN    NaN    NaN    NaN      Right   \n",
       "Right-Hippocampus                   NaN    NaN    NaN    NaN      Right   \n",
       "Right-Amygdala                      NaN    NaN    NaN    NaN      Right   \n",
       "Right-Accumbens-area                NaN    NaN    NaN    NaN      Right   \n",
       "Right-VentralDC/Hypothalamus        NaN    NaN    NaN    NaN      Right   \n",
       "\n",
       "                                   Cortex        Other Name  \\\n",
       "Name                                                          \n",
       "Right-Pallidum                subcortical        Pallidum_R   \n",
       "Right-Hippocampus             subcortical     Hippocampus_R   \n",
       "Right-Amygdala                subcortical        Amygdala_R   \n",
       "Right-Accumbens-area          subcortical  Accumbens_area_R   \n",
       "Right-VentralDC/Hypothalamus  subcortical    Hypothalamus_R   \n",
       "\n",
       "                                           Other Name 2           lobe  \\\n",
       "Name                                                                     \n",
       "Right-Pallidum                              pallidum_rh  R Subcortical   \n",
       "Right-Hippocampus                        hippocampus_rh  R Subcortical   \n",
       "Right-Amygdala                              amygdala_rh  R Subcortical   \n",
       "Right-Accumbens-area                   accumbensarea_rh  R Subcortical   \n",
       "Right-VentralDC/Hypothalamus  ventralDC/Hypothalamus_rh  R Subcortical   \n",
       "\n",
       "                             functional_system  index  \n",
       "Name                                                   \n",
       "Right-Pallidum                     subcortical     82  \n",
       "Right-Hippocampus                  subcortical     83  \n",
       "Right-Amygdala                     subcortical     84  \n",
       "Right-Accumbens-area               subcortical     85  \n",
       "Right-VentralDC/Hypothalamus       subcortical     86  "
      ]
     },
     "execution_count": 11,
     "metadata": {},
     "output_type": "execute_result"
    }
   ],
   "source": [
    "DK.tail()"
   ]
  },
  {
   "cell_type": "markdown",
   "metadata": {},
   "source": [
    "### Slicing the data: get coordinates"
   ]
  },
  {
   "cell_type": "code",
   "execution_count": 12,
   "metadata": {},
   "outputs": [
    {
     "data": {
      "text/html": [
       "<div>\n",
       "<style scoped>\n",
       "    .dataframe tbody tr th:only-of-type {\n",
       "        vertical-align: middle;\n",
       "    }\n",
       "\n",
       "    .dataframe tbody tr th {\n",
       "        vertical-align: top;\n",
       "    }\n",
       "\n",
       "    .dataframe thead th {\n",
       "        text-align: right;\n",
       "    }\n",
       "</style>\n",
       "<table border=\"1\" class=\"dataframe\">\n",
       "  <thead>\n",
       "    <tr style=\"text-align: right;\">\n",
       "      <th></th>\n",
       "      <th>x.mni</th>\n",
       "      <th>y.mni</th>\n",
       "      <th>z.mni</th>\n",
       "    </tr>\n",
       "    <tr>\n",
       "      <th>Name</th>\n",
       "      <th></th>\n",
       "      <th></th>\n",
       "      <th></th>\n",
       "    </tr>\n",
       "  </thead>\n",
       "  <tbody>\n",
       "    <tr>\n",
       "      <th>ctx-lh-bankssts</th>\n",
       "      <td>-56.0</td>\n",
       "      <td>-44.0</td>\n",
       "      <td>5.0</td>\n",
       "    </tr>\n",
       "    <tr>\n",
       "      <th>ctx-lh-caudalanteriorcingulate</th>\n",
       "      <td>-2.0</td>\n",
       "      <td>21.0</td>\n",
       "      <td>27.0</td>\n",
       "    </tr>\n",
       "    <tr>\n",
       "      <th>ctx-lh-caudalmiddlefrontal</th>\n",
       "      <td>-45.0</td>\n",
       "      <td>18.0</td>\n",
       "      <td>46.0</td>\n",
       "    </tr>\n",
       "    <tr>\n",
       "      <th>ctx-lh-cuneus</th>\n",
       "      <td>-1.0</td>\n",
       "      <td>-82.0</td>\n",
       "      <td>20.0</td>\n",
       "    </tr>\n",
       "    <tr>\n",
       "      <th>ctx-lh-entorhinal</th>\n",
       "      <td>-16.0</td>\n",
       "      <td>-10.0</td>\n",
       "      <td>-29.0</td>\n",
       "    </tr>\n",
       "  </tbody>\n",
       "</table>\n",
       "</div>"
      ],
      "text/plain": [
       "                                x.mni  y.mni  z.mni\n",
       "Name                                               \n",
       "ctx-lh-bankssts                 -56.0  -44.0    5.0\n",
       "ctx-lh-caudalanteriorcingulate   -2.0   21.0   27.0\n",
       "ctx-lh-caudalmiddlefrontal      -45.0   18.0   46.0\n",
       "ctx-lh-cuneus                    -1.0  -82.0   20.0\n",
       "ctx-lh-entorhinal               -16.0  -10.0  -29.0"
      ]
     },
     "execution_count": 12,
     "metadata": {},
     "output_type": "execute_result"
    }
   ],
   "source": [
    "# Getting coordinates (2 options: use loc[lines, columns] or [[]])\n",
    "# DK_coords = DK.loc[:, 'x.mni':'z.mni']\n",
    "DK_coords = DK[['x.mni','y.mni','z.mni']]\n",
    "DK_coords.head()"
   ]
  },
  {
   "cell_type": "markdown",
   "metadata": {},
   "source": [
    "### Get region names"
   ]
  },
  {
   "cell_type": "code",
   "execution_count": 13,
   "metadata": {},
   "outputs": [],
   "source": [
    "region_names = list(DK_coords.index)"
   ]
  },
  {
   "cell_type": "markdown",
   "metadata": {},
   "source": [
    "### Connectivity"
   ]
  },
  {
   "cell_type": "code",
   "execution_count": 94,
   "metadata": {},
   "outputs": [],
   "source": [
    "import matplotlib.pyplot as plt\n",
    "from scipy.io import loadmat\n",
    "import pandas as pd\n",
    "from scipy.stats import pearsonr"
   ]
  },
  {
   "cell_type": "code",
   "execution_count": 107,
   "metadata": {},
   "outputs": [],
   "source": [
    "ADNI_conn = loadmat('../data/dk_ADNI_averaged.mat')['connectome_avg']\n",
    "Pedros_conn = loadmat('../data/dk_conn_meanACS69.mat')['meanACS']\n",
    "bobby_matrix = pd.read_csv('../data/mean80_fibercount.csv').set_index(bobby_matrix.columns)\n",
    "\n",
    "LRLR_order = ['ctx-lh-bankssts','ctx-lh-caudalanteriorcingulate','ctx-lh-caudalmiddlefrontal','ctx-lh-cuneus','ctx-lh-entorhinal','ctx-lh-fusiform','ctx-lh-inferiorparietal','ctx-lh-inferiortemporal','ctx-lh-isthmuscingulate','ctx-lh-lateraloccipital','ctx-lh-lateralorbitofrontal','ctx-lh-lingual','ctx-lh-medialorbitofrontal','ctx-lh-middletemporal','ctx-lh-parahippocampal','ctx-lh-paracentral','ctx-lh-parsopercularis','ctx-lh-parsorbitalis','ctx-lh-parstriangularis','ctx-lh-pericalcarine','ctx-lh-postcentral','ctx-lh-posteriorcingulate','ctx-lh-precentral','ctx-lh-precuneus','ctx-lh-rostralanteriorcingulate','ctx-lh-rostralmiddlefrontal','ctx-lh-superiorfrontal','ctx-lh-superiorparietal','ctx-lh-superiortemporal','ctx-lh-supramarginal','ctx-lh-frontalpole','ctx-lh-temporalpole','ctx-lh-transversetemporal','ctx-lh-insula','ctx-rh-bankssts','ctx-rh-caudalanteriorcingulate','ctx-rh-caudalmiddlefrontal','ctx-rh-cuneus','ctx-rh-entorhinal','ctx-rh-fusiform','ctx-rh-inferiorparietal','ctx-rh-inferiortemporal','ctx-rh-isthmuscingulate','ctx-rh-lateraloccipital','ctx-rh-lateralorbitofrontal','ctx-rh-lingual','ctx-rh-medialorbitofrontal','ctx-rh-middletemporal','ctx-rh-parahippocampal','ctx-rh-paracentral','ctx-rh-parsopercularis','ctx-rh-parsorbitalis','ctx-rh-parstriangularis','ctx-rh-pericalcarine','ctx-rh-postcentral','ctx-rh-posteriorcingulate','ctx-rh-precentral','ctx-rh-precuneus','ctx-rh-rostralanteriorcingulate','ctx-rh-rostralmiddlefrontal','ctx-rh-superiorfrontal','ctx-rh-superiorparietal','ctx-rh-superiortemporal','ctx-rh-supramarginal','ctx-rh-frontalpole','ctx-rh-temporalpole','ctx-rh-transversetemporal','ctx-rh-insula','Left-Cerebellum-Cortex','Left-Thalamus-Proper','Left-Caudate','Left-Putamen','Left-Pallidum','Left-Hippocampus','Left-Amygdala','Left-Accumbens-area','Left-VentralDC','Right-Cerebellum-Cortex','Right-Thalamus-Proper','Right-Caudate','Right-Putamen','Right-Pallidum','Right-Hippocampus','Right-Amygdala','Right-Accumbens-area','Right-VentralDC']\n",
    "reordered_bobby = bobby_matrix[LRLR_order].loc[LRLR_order]"
   ]
  },
  {
   "cell_type": "code",
   "execution_count": 122,
   "metadata": {},
   "outputs": [
    {
     "data": {
      "image/png": "[encoded data removed]",
      "text/plain": [
       "<Figure size 1440x1440 with 3 Axes>"
      ]
     },
     "metadata": {
      "needs_background": "light"
     },
     "output_type": "display_data"
    }
   ],
   "source": [
    "plt.figure(figsize=(20,20))\n",
    "\n",
    "plt.subplot(1, 3, 1)\n",
    "plt.title('ADNI averaged connectome')\n",
    "_ = plt.matshow(ADNI_conn, fignum=False)\n",
    "\n",
    "plt.subplot(1, 3, 2)\n",
    "plt.title(\"Pedro's mean ACS69\")\n",
    "_ = plt.matshow(Pedros_conn, fignum=False)\n",
    "\n",
    "plt.subplot(1, 3, 3)\n",
    "plt.title(\"Bobby's mean80 fibercount\")\n",
    "_ = plt.matshow(reordered_bobby, fignum=False)"
   ]
  },
  {
   "cell_type": "code",
   "execution_count": null,
   "metadata": {},
   "outputs": [],
   "source": []
  }
 ],
 "metadata": {
  "kernelspec": {
   "display_name": "py36-brain",
   "language": "python",
   "name": "py36-brain"
  },
  "language_info": {
   "codemirror_mode": {
    "name": "ipython",
    "version": 3
   },
   "file_extension": ".py",
   "mimetype": "text/x-python",
   "name": "python",
   "nbconvert_exporter": "python",
   "pygments_lexer": "ipython3",
   "version": "3.6.5"
  }
 },
 "nbformat": 4,
 "nbformat_minor": 2
}
