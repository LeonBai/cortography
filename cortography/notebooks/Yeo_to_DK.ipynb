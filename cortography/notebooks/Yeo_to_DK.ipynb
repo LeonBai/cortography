{
 "cells": [
  {
   "cell_type": "markdown",
   "metadata": {},
   "source": [
    "# Atlas Translation: Yeo-2011 to Desikan-Killiani (DK)"
   ]
  },
  {
   "cell_type": "code",
   "execution_count": null,
   "metadata": {},
   "outputs": [],
   "source": [
    "import itertools\n",
    "import nibabel as nb\n",
    "import numpy as np\n",
    "import pandas as pd\n",
    "from tqdm import tqdm\n",
    "from atlasreader import atlasreader as ar\n",
    "from nilearn._utils import check_niimg"
   ]
  },
  {
   "cell_type": "markdown",
   "metadata": {},
   "source": [
    "## 1.1 Calculate Voxel Data"
   ]
  },
  {
   "cell_type": "code",
   "execution_count": null,
   "metadata": {},
   "outputs": [],
   "source": [
    "### 1.1 Storing Yeo Atlas information\n",
    "\n",
    "# # For Yeo 7 networks:\n",
    "# #Read Yeo labels from file, fixing spacings and new / empty lines\n",
    "# Yeo_labels = open('../data/atlases/Yeo2011_7Networks_MNI152.txt', 'r')\n",
    "# Yeo_labels = Yeo_labels.read().split('\\n')\n",
    "# #Yeo_labels = [Yeo_labels[i][8:] for i in range(len(Yeo_labels)-1)]\n",
    "# Yeo_labels.insert(0,\"None\") #I believe the areas were numbered 1-7 with \"0\" reserved for white matter\n",
    "\n",
    "# #Read Yeo matrix\n",
    "# Yeo_template = \"../data/atlases/Yeo2011_7Networks_MNI152.nii\"\n",
    "# Yeo = nb.load(Yeo_template)\n",
    "# Yeo_data = Yeo.get_data()\n",
    "\n",
    "# For Yeo 17 Networks:\n",
    "# Read Yeo labels from file, fixing spacing and new/empty lines\n",
    "Yeo_labels = open('../data/atlases/Yeo/Yeo2011_17Networks_MNI152.txt', 'r')\n",
    "Yeo_labels = Yeo_labels.read().split('\\n')\n",
    "#Yeo_labels = [Yeo_labels[i][17:] for i in range(len(Yeo_labels)-1)]\n",
    "Yeo_labels.insert(0,\"None\") #I believe the areas were numbered 1-7 with \"0\" reserved for white matter\n",
    "\n",
    "#Read Yeo matrix\n",
    "Yeo_template = \"../data/atlases/Yeo/Yeo2011_17Networks_MNI152.nii\"\n",
    "Yeo = nb.load(Yeo_template)\n",
    "Yeo_data = Yeo.get_data()"
   ]
  },
  {
   "cell_type": "markdown",
   "metadata": {},
   "source": [
    "### 1.2 Loop thru MNI-152 template data"
   ]
  },
  {
   "cell_type": "code",
   "execution_count": null,
   "metadata": {},
   "outputs": [],
   "source": [
    "DK_data = ar.get_atlas(\"desikan_killiany\")['image'].get_data()\n",
    "\n",
    "DK_atlas = ar.get_atlas(\"desikan_killiany\")"
   ]
  },
  {
   "cell_type": "markdown",
   "metadata": {},
   "source": [
    "We would like to loop over the pixels and compare them between atlases but, unfortunately, the matrices are cropped to remove large regions full of zeros so the matrices are not 256x256x256 anymore.\n",
    "\n",
    "We can try doing the same operation in real, xyz space instead of in MNI-type indices. We do so by using `coord_ijk_to_xyz` function in `atlasreader`."
   ]
  },
  {
   "cell_type": "code",
   "execution_count": null,
   "metadata": {},
   "outputs": [],
   "source": [
    "Yeo_affine = check_niimg(Yeo_template).affine\n",
    "DK_affine  = check_niimg(ar.get_atlas(\"desikan_killiany\")['image']).affine"
   ]
  },
  {
   "cell_type": "markdown",
   "metadata": {},
   "source": [
    "### 1.3. Compute the DK voxel-based distribution of networks per region (very slow!!)"
   ]
  },
  {
   "cell_type": "code",
   "execution_count": null,
   "metadata": {},
   "outputs": [],
   "source": [
    "DK_dict_voxels = {}\n",
    "DK_dict_counts = {}\n",
    "\n",
    "for n in tqdm(ar.get_atlas(\"desikan_killiany\")['labels']['name']):\n",
    "    DK_dict_counts.update({n: {Yeo_label:0 for Yeo_label in Yeo_labels}})\n",
    "    DK_dict_voxels.update({n: {Yeo_label:[] for Yeo_label in Yeo_labels}})\n",
    "\n",
    "   \n",
    "for DK_i in range(0, DK_data.shape[0]):\n",
    "    for DK_j in range(0, DK_data.shape[1]):\n",
    "        for DK_k in range(0, DK_data.shape[2]):           \n",
    "            DK_voxel_label  = DK_data[DK_i, DK_j, DK_k]\n",
    "            DK_voxel_region = ar.get_label(DK_atlas, DK_voxel_label)\n",
    "\n",
    "            if DK_voxel_region != 'Unknown':\n",
    "\n",
    "                xyz = ar.coord_ijk_to_xyz(DK_affine, [DK_i, DK_j, DK_k])\n",
    "                Yeo_ijk = ar.coord_xyz_to_ijk(Yeo_affine, xyz)[0]\n",
    "                             \n",
    "                Yeo_voxel_label = int(Yeo_data[Yeo_ijk[0], Yeo_ijk[1], Yeo_ijk[2]])\n",
    "                Yeo_voxel_region = Yeo_labels[Yeo_voxel_label]\n",
    "\n",
    "                DK_dict_counts[DK_voxel_region][Yeo_voxel_region] += 1\n",
    "                DK_dict_voxels[DK_voxel_region][Yeo_voxel_region].append(xyz[0])"
   ]
  },
  {
   "cell_type": "code",
   "execution_count": null,
   "metadata": {},
   "outputs": [],
   "source": [
    "from scipy.io import savemat\n",
    "\n",
    "# np.save('DK_dict_voxels.npy', DK_dict_voxels)\n",
    "# np.save('DK_dict_counts.npy', DK_dict_counts)\n",
    "\n",
    "# Save 17 networks map... in .mat format?\n",
    "savemat('DK_dict17_voxels.mat', DK_dict_voxels)\n",
    "savemat('DK_dict17_counts.mat', DK_dict_counts)"
   ]
  },
  {
   "cell_type": "markdown",
   "metadata": {},
   "source": [
    "### 1.3b Or just load it"
   ]
  },
  {
   "cell_type": "markdown",
   "metadata": {},
   "source": [
    "`DK_dict_counts` is a matrix with the number of voxels belonging to a given Yeo network, for each DK region.\n",
    "\n",
    "`DK_dict_voxels` is a similar matrix but it contains the actual [x,y,z] locations of each voxel so we can use them to make the brain plots"
   ]
  },
  {
   "cell_type": "code",
   "execution_count": null,
   "metadata": {},
   "outputs": [],
   "source": [
    "DK_dict_counts = np.load(\"DK_dict_counts.npy\")\n",
    "DK_dict_counts = DK_dict_counts.item()"
   ]
  },
  {
   "cell_type": "code",
   "execution_count": null,
   "metadata": {},
   "outputs": [],
   "source": [
    "pd.DataFrame(DK_dict_counts)"
   ]
  },
  {
   "cell_type": "markdown",
   "metadata": {},
   "source": [
    "## 2. Prepare the data"
   ]
  },
  {
   "cell_type": "markdown",
   "metadata": {},
   "source": [
    "### 2.1 Make Pandas DataFrame with the 86 ROIs"
   ]
  },
  {
   "cell_type": "markdown",
   "metadata": {},
   "source": [
    "The DK dataframe from `nilearn` has extra regions like \"Left-Cerebellum-White-Matter\" that need to be removed. \n",
    "\n",
    "I do so below by making a new dataframe containing only columns that agree with what we know to be DK."
   ]
  },
  {
   "cell_type": "code",
   "execution_count": null,
   "metadata": {},
   "outputs": [],
   "source": [
    "DK_region_names = pd.read_csv(\"../data/atlases/DK/dk_names.csv\").set_index('Atlas')"
   ]
  },
  {
   "cell_type": "code",
   "execution_count": null,
   "metadata": {},
   "outputs": [],
   "source": [
    "DK_dict_86_regions = {}\n",
    "for region in DK_region_names.index:\n",
    "    DK_dict_86_regions.update({region:DK_dict_counts[region]})"
   ]
  },
  {
   "cell_type": "code",
   "execution_count": null,
   "metadata": {},
   "outputs": [],
   "source": [
    "# transform into a pandas df\n",
    "DK_dict_counts = pd.DataFrame(DK_dict_86_regions)\n",
    "# drop \"None\" (white matter)\n",
    "DK_dict_counts = DK_dict_counts.drop(['None'])"
   ]
  },
  {
   "cell_type": "code",
   "execution_count": null,
   "metadata": {},
   "outputs": [],
   "source": [
    "DK_dict_counts"
   ]
  },
  {
   "cell_type": "markdown",
   "metadata": {},
   "source": [
    "### 2.2 Normalize each region so that its networks add up to 1"
   ]
  },
  {
   "cell_type": "code",
   "execution_count": null,
   "metadata": {},
   "outputs": [],
   "source": [
    "DK_df_normalized = DK_dict_counts.div(DK_dict_counts.sum(axis=0), axis=1)"
   ]
  },
  {
   "cell_type": "code",
   "execution_count": null,
   "metadata": {},
   "outputs": [],
   "source": [
    "DK_df_normalized"
   ]
  },
  {
   "cell_type": "markdown",
   "metadata": {},
   "source": [
    "### 2.3 Save to file"
   ]
  },
  {
   "cell_type": "code",
   "execution_count": null,
   "metadata": {},
   "outputs": [],
   "source": [
    "DK_df_normalized.to_csv(\"DK_dictionary_normalized.csv\")"
   ]
  },
  {
   "cell_type": "markdown",
   "metadata": {},
   "source": [
    "## 3. Plotting networks"
   ]
  },
  {
   "cell_type": "markdown",
   "metadata": {},
   "source": [
    "### 3.1 Plot ROI (center of mass only)"
   ]
  },
  {
   "cell_type": "code",
   "execution_count": null,
   "metadata": {},
   "outputs": [],
   "source": [
    "from scipy.io import loadmat\n",
    "import matplotlib.pyplot as plt\n",
    "from nilearn import plotting"
   ]
  },
  {
   "cell_type": "code",
   "execution_count": null,
   "metadata": {},
   "outputs": [],
   "source": [
    "# Calculate center of mass from file\n",
    "com_dk = np.load(\"../data/com_dk.npy\")\n",
    "com_dk = com_dk.ravel()[0] #not sure why / whether i need this\n",
    "coords = np.array([com_dk[region] for region in DK_df_normalized.columns])"
   ]
  },
  {
   "cell_type": "code",
   "execution_count": null,
   "metadata": {},
   "outputs": [],
   "source": [
    "def plot_glass_brains(color, coords, size):\n",
    "    \"\"\"Plot a glass brain for a 90 regions ATLAS with nodes colored by `color`.\n",
    "\n",
    "    Args:\n",
    "        color (list): Color indices. e.g. [0,1,1,0] will color nodes [1,2] differently.\n",
    "\n",
    "    Returns:\n",
    "        matplotlib.plot: A plot object.\n",
    "\n",
    "    \"\"\"\n",
    "\n",
    "    connec = np.array([[0]*86]*86)\n",
    "\n",
    "    plotting.plot_connectome(connec, coords, node_size = size, node_color=color, display_mode='lyrz')"
   ]
  },
  {
   "cell_type": "code",
   "execution_count": null,
   "metadata": {},
   "outputs": [],
   "source": [
    "plot_glass_brains([[0.9921875,0.64453125,1]]*86, coords, DK_df_normalized.loc['Visual'].values*120)"
   ]
  },
  {
   "cell_type": "code",
   "execution_count": null,
   "metadata": {},
   "outputs": [],
   "source": [
    "plot_glass_brains([[0.9921875,0.2,0.64453125]]*86, coords, DK_df_normalized.loc['Limbic'].values*120)"
   ]
  },
  {
   "cell_type": "code",
   "execution_count": null,
   "metadata": {},
   "outputs": [],
   "source": [
    "plot_glass_brains([[0.1,0.64453125,0.64453125]]*86, coords, DK_df_normalized.loc['Default'].values*120)"
   ]
  },
  {
   "cell_type": "code",
   "execution_count": null,
   "metadata": {},
   "outputs": [],
   "source": [
    "plot_glass_brains([[0.1,0.1,0.64453125]]*86, coords, DK_df_normalized.loc['Somatomotor'].values*120)"
   ]
  },
  {
   "cell_type": "code",
   "execution_count": null,
   "metadata": {},
   "outputs": [],
   "source": [
    "plot_glass_brains([[0.5,0.3,0.1]]*86, coords, DK_df_normalized.loc['Frontoparietal'].values*120)"
   ]
  },
  {
   "cell_type": "code",
   "execution_count": null,
   "metadata": {},
   "outputs": [],
   "source": [
    "plot_glass_brains([[0.6,0.6,0.8]]*86, coords, DK_df_normalized.loc['Ventral_Attention'].values*120)"
   ]
  },
  {
   "cell_type": "code",
   "execution_count": null,
   "metadata": {},
   "outputs": [],
   "source": [
    "plot_glass_brains([[0.9921875,0.64453125,0.1]]*86, coords, DK_df_normalized.loc['Dorsal_Attention'].values*220)"
   ]
  },
  {
   "cell_type": "markdown",
   "metadata": {},
   "source": [
    "### 3.2 Plotting all voxels"
   ]
  },
  {
   "cell_type": "code",
   "execution_count": null,
   "metadata": {},
   "outputs": [],
   "source": [
    "DK_dict_voxels = np.load(\"DK_dict_voxels.npy\")"
   ]
  },
  {
   "cell_type": "code",
   "execution_count": null,
   "metadata": {},
   "outputs": [],
   "source": [
    "DK_dict_voxels = DK_dict_voxels.item()"
   ]
  },
  {
   "cell_type": "code",
   "execution_count": null,
   "metadata": {},
   "outputs": [],
   "source": [
    "DK_voxels_df = pd.DataFrame(DK_dict_voxels)"
   ]
  },
  {
   "cell_type": "code",
   "execution_count": null,
   "metadata": {},
   "outputs": [],
   "source": [
    "network_coordinates_DK = {network:[] for network in DK_voxels_df.index}"
   ]
  },
  {
   "cell_type": "code",
   "execution_count": null,
   "metadata": {},
   "outputs": [],
   "source": [
    "colors = np.array(\n",
    "         [[255,227,133,0.1*255],\n",
    "          [197,232,146,0.1*255],\n",
    "          [255,196,158,0.1*255],\n",
    "          [200,180,232,0.1*255],\n",
    "          [141,216,255,0.1*255],\n",
    "          [255,158,179,0.1*255],\n",
    "          [143,255,200,0.1*255]])/255"
   ]
  },
  {
   "cell_type": "code",
   "execution_count": null,
   "metadata": {},
   "outputs": [],
   "source": [
    "for network in network_coordinates_DK:\n",
    "    coords = DK_voxels_df.loc[network]\n",
    "    network_coordinates_DK[network] = np.array(list(itertools.chain.from_iterable(coords)))"
   ]
  },
  {
   "cell_type": "code",
   "execution_count": null,
   "metadata": {},
   "outputs": [],
   "source": [
    "coords = network_coordinates_DK['Visual'][1::10]\n",
    "coords_len = len(network_coordinates_DK['Visual'][1::10])\n",
    "plotting.plot_connectome(np.array([[0]*coords_len]*coords_len),  \n",
    "                         coords,\n",
    "                         node_size = 10, \n",
    "                         node_color = [colors[0]]*coords_len, \n",
    "                         display_mode='lyrz')"
   ]
  },
  {
   "cell_type": "code",
   "execution_count": null,
   "metadata": {},
   "outputs": [],
   "source": [
    "coords = network_coordinates_DK['Default'][1::10]\n",
    "coords_len = len(network_coordinates_DK['Default'][1::10])\n",
    "plotting.plot_connectome(np.array([[0]*coords_len]*coords_len),  \n",
    "                         coords,\n",
    "                         node_size = 10, \n",
    "                         node_color = [colors[1]]*coords_len, \n",
    "                         display_mode='lyrz')"
   ]
  },
  {
   "cell_type": "code",
   "execution_count": null,
   "metadata": {},
   "outputs": [],
   "source": [
    "coords = network_coordinates_DK['Somatomotor'][1::10]\n",
    "coords_len = len(network_coordinates_DK['Somatomotor'][1::10])\n",
    "plotting.plot_connectome(np.array([[0]*coords_len]*coords_len),  \n",
    "                         coords,\n",
    "                         node_size = 10, \n",
    "                         node_color = [colors[2]]*coords_len, \n",
    "                         display_mode='lyrz')"
   ]
  },
  {
   "cell_type": "code",
   "execution_count": null,
   "metadata": {},
   "outputs": [],
   "source": [
    "coords = network_coordinates_DK['Dorsal_Attention'][1::10]\n",
    "coords_len = len(network_coordinates_DK['Dorsal_Attention'][1::10])\n",
    "plotting.plot_connectome(np.array([[0]*coords_len]*coords_len),  \n",
    "                         coords,\n",
    "                         node_size = 10, \n",
    "                         node_color = [colors[3]]*coords_len, \n",
    "                         display_mode='lyrz')"
   ]
  },
  {
   "cell_type": "code",
   "execution_count": null,
   "metadata": {},
   "outputs": [],
   "source": [
    "coords = network_coordinates_DK['Frontoparietal'][1::10]\n",
    "coords_len = len(network_coordinates_DK['Frontoparietal'][1::10])\n",
    "plotting.plot_connectome(np.array([[0]*coords_len]*coords_len),  \n",
    "                         coords,\n",
    "                         node_size = 10, \n",
    "                         node_color = [colors[4]]*coords_len, \n",
    "                         display_mode='lyrz')"
   ]
  },
  {
   "cell_type": "code",
   "execution_count": null,
   "metadata": {},
   "outputs": [],
   "source": [
    "coords = network_coordinates_DK['Limbic'][1::10]\n",
    "coords_len = len(network_coordinates_DK['Limbic'][1::10])\n",
    "plotting.plot_connectome(np.array([[0]*coords_len]*coords_len),  \n",
    "                         coords,\n",
    "                         node_size = 10, \n",
    "                         node_color = [colors[5]]*coords_len, \n",
    "                         display_mode='lyrz')"
   ]
  },
  {
   "cell_type": "code",
   "execution_count": null,
   "metadata": {},
   "outputs": [],
   "source": [
    "coords = network_coordinates_DK['Ventral_Attention'][1::10]\n",
    "coords_len = len(network_coordinates_DK['Ventral_Attention'][1::10])\n",
    "plotting.plot_connectome(np.array([[0]*coords_len]*coords_len),  \n",
    "                         coords,\n",
    "                         node_size = 10, \n",
    "                         node_color = [colors[6]]*coords_len, \n",
    "                         display_mode='lyrz')"
   ]
  },
  {
   "cell_type": "code",
   "execution_count": null,
   "metadata": {},
   "outputs": [],
   "source": [
    "network_coordinates_DK.keys()"
   ]
  }
 ],
 "metadata": {
  "kernelspec": {
   "display_name": "cortography",
   "language": "python",
   "name": "cortography"
  },
  "language_info": {
   "codemirror_mode": {
    "name": "ipython",
    "version": 3
   },
   "file_extension": ".py",
   "mimetype": "text/x-python",
   "name": "python",
   "nbconvert_exporter": "python",
   "pygments_lexer": "ipython3",
   "version": "3.8.1"
  }
 },
 "nbformat": 4,
 "nbformat_minor": 4
}
