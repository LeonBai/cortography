{
 "cells": [
  {
   "cell_type": "code",
   "execution_count": 1,
   "metadata": {},
   "outputs": [
    {
     "name": "stdout",
     "output_type": "stream",
     "text": [
      "The Python package you are importing, AtlasReader, is licensed under the\n",
      "BSD-3 license; however, the atlases it uses are separately licensed under more\n",
      "restrictive frameworks.\n",
      "By using AtlasReader, you agree to abide by the license terms of the\n",
      "individual atlases. Information on these terms can be found online at:\n",
      "https://github.com/miykael/atlasreader/tree/master/atlasreader/data\n",
      "\n"
     ]
    }
   ],
   "source": [
    "import itertools\n",
    "import nibabel as nb\n",
    "import numpy as np\n",
    "import pandas as pd\n",
    "from tqdm import tqdm\n",
    "from atlasreader import atlasreader as ar\n",
    "from nilearn._utils import check_niimg"
   ]
  },
  {
   "cell_type": "markdown",
   "metadata": {},
   "source": [
    "Relabel voxels in Yeo's canonical functional network maps to AAL atlas\n",
    "---\n",
    "## 1.1 First load voxel data from Yeo:"
   ]
  },
  {
   "cell_type": "code",
   "execution_count": 18,
   "metadata": {},
   "outputs": [],
   "source": [
    "# For Yeo 17 Networks:\n",
    "# Read Yeo labels from file, fixing spacing and new/empty lines\n",
    "Yeo_labels = open('../data/atlases/Yeo/Yeo2011_7Networks_MNI152.txt', 'r')\n",
    "Yeo_labels = Yeo_labels.read().split('\\n')\n",
    "#Yeo_labels = [Yeo_labels[i][17:] for i in range(len(Yeo_labels)-1)]\n",
    "Yeo_labels.insert(0,\"None\") #I believe the areas were numbered 1-7 with \"0\" reserved for white matter\n",
    "\n",
    "#Read Yeo matrix\n",
    "Yeo_template = \"../data/atlases/Yeo/Yeo2011_7Networks_MNI152.nii\"\n",
    "Yeo = nb.load(Yeo_template)\n",
    "Yeo_data = Yeo.get_fdata()"
   ]
  },
  {
   "cell_type": "markdown",
   "metadata": {},
   "source": [
    "### 1.2 Loop through MNI-152 template:"
   ]
  },
  {
   "cell_type": "code",
   "execution_count": 19,
   "metadata": {},
   "outputs": [],
   "source": [
    "AAL_data = ar.get_atlas('aal')['image'].get_fdata()\n",
    "\n",
    "AAL_atlas = ar.get_atlas('aal')"
   ]
  },
  {
   "cell_type": "markdown",
   "metadata": {},
   "source": [
    "We would like to loop over the pixels and compare them between atlases but, unfortunately, the matrices are cropped to remove large regions full of zeros so the matrices are not 256x256x256 anymore.\n",
    "\n",
    "We can try doing the same operation in real, xyz space instead of in MNI-type indices. We do so by using `coord_ijk_to_xyz` function in `atlasreader`."
   ]
  },
  {
   "cell_type": "code",
   "execution_count": 20,
   "metadata": {},
   "outputs": [],
   "source": [
    "Yeo_affine = check_niimg(Yeo_template).affine\n",
    "AAL_affine = check_niimg(ar.get_atlas('aal')['image']).affine"
   ]
  },
  {
   "cell_type": "markdown",
   "metadata": {},
   "source": [
    "### 1.3 Compute the AAL voxel-based distribution of networks per region (very slow)\n",
    "\n",
    "Try using multiprocessing and see if it speeds up the process:"
   ]
  },
  {
   "cell_type": "code",
   "execution_count": 21,
   "metadata": {},
   "outputs": [
    {
     "name": "stdout",
     "output_type": "stream",
     "text": [
      "None\n",
      "  1     Visual\n",
      "  2     Somatomotor\n",
      "  3     Dorsal_Attention\n",
      "  4     Ventral_Attention\n",
      "  5     Limbic\n",
      "  6     Frontoparietal\n",
      "  7     Default\n",
      "\n"
     ]
    }
   ],
   "source": [
    "for label in Yeo_labels:\n",
    "    print(label)"
   ]
  },
  {
   "cell_type": "code",
   "execution_count": null,
   "metadata": {},
   "outputs": [
    {
     "name": "stderr",
     "output_type": "stream",
     "text": [
      "pre-allocation: 100%|██████████| 120/120 [00:00<00:00, 66593.87it/s]\n",
      "Outter Loop:  73%|███████▎  | 55/75 [06:35<02:25,  7.27s/it]"
     ]
    }
   ],
   "source": [
    "from multiprocessing import Pool\n",
    "\n",
    "nprocesses = 4 # number of parallel workers\n",
    "\n",
    "# pre-allocate the dictionaries, we will append to these as we loop through the data:\n",
    "AAL_dict_voxels = {}\n",
    "AAL_dict_counts = {}\n",
    "\n",
    "with Pool(processes=nprocesses) as pool:\n",
    "    for n in tqdm(ar.get_atlas('aal')['labels']['name'], desc = 'pre-allocation'):\n",
    "        # this creates a dict for each region name in AAL atlas\n",
    "        # each region's dict will contain network labels or voxelcounts\n",
    "        # Yeo's networks are numbered, so we append the integer number labels to each network name\n",
    "        AAL_dict_counts.update({n: {Yeo_label:0 for Yeo_label in Yeo_labels}})\n",
    "        # this is the voxels for each network\n",
    "        AAL_dict_voxels.update({n: {Yeo_label:[] for Yeo_label in Yeo_labels}})\n",
    "\n",
    "    for aal_i in tqdm(range(0, AAL_data.shape[0]), desc = 'Outter Loop'):\n",
    "        for aal_j in range(0, AAL_data.shape[1]):\n",
    "            for aal_k in range(0, AAL_data.shape[2]):\n",
    "                # Get each iterated voxel's labels:\n",
    "                AAL_voxel_label = AAL_data[aal_i, aal_j, aal_k]\n",
    "                AAL_voxel_region = ar.get_label(AAL_atlas, AAL_voxel_label)\n",
    "                \n",
    "                if AAL_voxel_region != 'no_label':\n",
    "                    # Excluding the unknown voxels, we re-do the affine conversion\n",
    "                    # then assign the Yeo labels/voxels to our AAL dict\n",
    "                    xyz = ar.coord_ijk_to_xyz(AAL_affine, [aal_i, aal_j, aal_k])\n",
    "                    Yeo_ijk = ar.coord_xyz_to_ijk(Yeo_affine, xyz)[0]\n",
    "                    \n",
    "                    Yeo_voxel_label = int(Yeo_data[Yeo_ijk[0], Yeo_ijk[1], Yeo_ijk[2]])\n",
    "                    Yeo_voxel_region = Yeo_labels[Yeo_voxel_label]\n",
    "                    AAL_dict_counts[AAL_voxel_region][Yeo_voxel_region] += 1 # add one to voxel count\n",
    "                    AAL_dict_voxels[AAL_voxel_region][Yeo_voxel_region].append(xyz[0]) # label region\n"
   ]
  },
  {
   "cell_type": "markdown",
   "metadata": {},
   "source": [
    "Now that's finished, we want to save it so we can just load it later:"
   ]
  },
  {
   "cell_type": "code",
   "execution_count": null,
   "metadata": {},
   "outputs": [],
   "source": [
    "from scipy.io import savemat\n",
    "\n",
    "savemat('AAL_dict7_voxels.mat', AAL_dict_voxels)\n",
    "savemat('AAL_dict7_counts.mat', AAL_dict_counts)"
   ]
  },
  {
   "cell_type": "markdown",
   "metadata": {},
   "source": [
    "### 1.3B. Load it back to work with\n",
    "\n",
    "We still need to conver "
   ]
  },
  {
   "cell_type": "code",
   "execution_count": null,
   "metadata": {},
   "outputs": [],
   "source": []
  }
 ],
 "metadata": {
  "kernelspec": {
   "display_name": "cortography",
   "language": "python",
   "name": "cortography"
  },
  "language_info": {
   "codemirror_mode": {
    "name": "ipython",
    "version": 3
   },
   "file_extension": ".py",
   "mimetype": "text/x-python",
   "name": "python",
   "nbconvert_exporter": "python",
   "pygments_lexer": "ipython3",
   "version": "3.8.1"
  }
 },
 "nbformat": 4,
 "nbformat_minor": 4
}
